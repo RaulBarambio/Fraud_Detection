{
  "nbformat": 4,
  "nbformat_minor": 0,
  "metadata": {
    "colab": {
      "provenance": []
    },
    "kernelspec": {
      "name": "python3",
      "display_name": "Python 3"
    },
    "language_info": {
      "name": "python"
    },
    "accelerator": "GPU",
    "gpuClass": "standard"
  },
  "cells": [
    {
      "cell_type": "markdown",
      "source": [
        "## Importamos las librerias"
      ],
      "metadata": {
        "id": "v8uoWPESciWy"
      }
    },
    {
      "cell_type": "code",
      "execution_count": 1,
      "metadata": {
        "id": "BAvKvm-ZaRmJ"
      },
      "outputs": [],
      "source": [
        "import pandas as pd\n",
        "import numpy as np\n",
        "import matplotlib.pyplot as plt\n",
        "import seaborn as sns\n",
        "import xgboost as xgb\n",
        "from sklearn.model_selection import train_test_split, GridSearchCV\n",
        "from sklearn.preprocessing import StandardScaler, MinMaxScaler, OneHotEncoder\n",
        "from sklearn.tree import DecisionTreeClassifier\n",
        "from sklearn.ensemble import RandomForestClassifier, GradientBoostingClassifier\n",
        "from sklearn.metrics import f1_score, confusion_matrix, accuracy_score"
      ]
    },
    {
      "cell_type": "markdown",
      "source": [
        "## Funciones"
      ],
      "metadata": {
        "id": "gq52rj7B711Z"
      }
    },
    {
      "cell_type": "code",
      "source": [
        "def clear_outliers(data, variables):\n",
        "\n",
        "  for i in variables:\n",
        "      Q3 = np.percentile(data[i], 25, interpolation = 'midpoint')\n",
        "      Q1 = np.percentile(data[i], 75, interpolation = 'midpoint')\n",
        "      IQR = Q3 - Q1\n",
        "      data[i] = np.where(data[i] <(Q3+1.5*IQR), (Q3+1.5*IQR),data[i])\n",
        "      data[i] = np.where(data[i] >(Q1-1.5*IQR), (Q1-1.5*IQR),data[i])\n",
        "\n",
        "  return data"
      ],
      "metadata": {
        "id": "qfcvXCuTy2Z4"
      },
      "execution_count": 2,
      "outputs": []
    },
    {
      "cell_type": "code",
      "source": [
        "def print_outliers(data, variables):\n",
        "\n",
        "  for var in variables:\n",
        "      sns.boxplot(data[var])\n",
        "      plt.show()"
      ],
      "metadata": {
        "id": "RTJH1iNv0fN4"
      },
      "execution_count": 3,
      "outputs": []
    },
    {
      "cell_type": "code",
      "source": [
        "def creacion_modelo(modelo, X, y, escalado, metrica, cm):\n",
        "  X_train, X_test, y_train, y_test = train_test_split(X, y, test_size=0.2, random_state=123)\n",
        "\n",
        "  if escalado == 'MinMax':\n",
        "    scaler = MinMaxScaler()\n",
        "    X_train = scaler.fit_transform(X_train)\n",
        "    X_test = scaler.fit_transform(X_test)\n",
        "  if escalado == 'scaler':\n",
        "    scaler = StandardScaler()\n",
        "    X_train = scaler.fit_transform(X_train)\n",
        "    X_test = scaler.fit_transform(X_test)\n",
        "\n",
        "  model = modelo\n",
        "  model.fit(X_train, y_train)\n",
        "  y_pred = model.predict(X_test)\n",
        "\n",
        "  train_accuracy = model.score(X_train, y_train)\n",
        "  test_accuracy = model.score(X_test, y_test)\n",
        "\n",
        "  print(\"Precisión en el conjunto de entrenamiento: {:.2f}\".format(train_accuracy))\n",
        "  print(\"Precisión en el conjunto de prueba: {:.2f}\".format(test_accuracy))\n",
        "\n",
        "  if metrica == 'f1':\n",
        "    f1 = ((f1_score(y_test, y_pred))*100).round(2)\n",
        "    print('El f1 para este modelo es {}%'.format(f1))\n",
        "  if metrica == 'accuracy':\n",
        "    accuracy = (accuracy_score(y_test, y_pred))*100\n",
        "    print('El accuracy para este modelo es {}%'.format(accuracy.round(2)))\n",
        "  if cm:\n",
        "    labels = [0, 1]\n",
        "    cm = confusion_matrix(y_test, y_pred, labels=labels)\n",
        "    print(\"Matriz de confusión:\")\n",
        "    print(cm)"
      ],
      "metadata": {
        "id": "XKam3R1JF0JB"
      },
      "execution_count": 4,
      "outputs": []
    },
    {
      "cell_type": "code",
      "source": [
        "def optimizacion_parametros(modelo, X, y, parametros, cv, escalado):\n",
        "  X_train, X_test, y_train, y_test = train_test_split(X, y, test_size=0.2, random_state=123)\n",
        "\n",
        "  if escalado == 'MinMax':\n",
        "    scaler = MinMaxScaler()\n",
        "    X_train = scaler.fit_transform(X_train)\n",
        "    X_test = scaler.fit_transform(X_test)\n",
        "  if escalado == 'scaler':\n",
        "    scaler = StandardScaler()\n",
        "    X_train = scaler.fit_transform(X_train)\n",
        "    X_test = scaler.fit_transform(X_test)\n",
        "\n",
        "  LogSearch = GridSearchCV(estimator=modelo, param_grid=parametros, cv=cv)\n",
        "  LogSearch.fit(X_train, y_train)\n",
        "\n",
        "  print(\"Mejores hiperparámetros encontrados:\")\n",
        "  print(LogSearch.best_params_)\n",
        "\n",
        "  print(\"Puntuación de validación cruzada media asociada a los mejores hiperparámetros:\")\n",
        "  print(LogSearch.best_score_)"
      ],
      "metadata": {
        "id": "ZSJc5VPqHdoG"
      },
      "execution_count": 5,
      "outputs": []
    },
    {
      "cell_type": "code",
      "source": [
        "def balanceo_dataset(data):\n",
        "  df_0 = data[data['isFraud'] == 0]\n",
        "  df_1 = data[data['isFraud'] == 1]\n",
        "  size_1 = len(df_1)\n",
        "  df_0_balanced = df_0.sample(n=size_1, replace=True, random_state=42)\n",
        "  df_balanced = pd.concat([df_0_balanced, df_1])\n",
        "  df_balanced = df_balanced.sample(frac=1, random_state=42).reset_index(drop=True)\n",
        "  df_balanced['isFraud'].sum()\n",
        "  print('Cada conjunto de datos tiene una muestra de 0 y de 1 de {}'.format(df_balanced['isFraud'].sum()))\n",
        "  return df_balanced"
      ],
      "metadata": {
        "id": "kxmln_lxRm5c"
      },
      "execution_count": 6,
      "outputs": []
    },
    {
      "cell_type": "code",
      "source": [
        "def model_xgboost(modelo, X, y, cm):\n",
        "  X_train, X_test, y_train, y_test = train_test_split(X, y, test_size=0.2, random_state=42)\n",
        "  modelo = xgb.XGBClassifier()\n",
        "  modelo.fit(X_train, y_train)\n",
        "  y_pred = modelo.predict(X_test)\n",
        "  accuracy = accuracy_score(y_test, y_pred)\n",
        "  print(\"El modelo presenta un accuracy de {}%\".format(round((accuracy*100),2)))\n",
        "  if cm:\n",
        "    labels = [0, 1]\n",
        "    cm = confusion_matrix(y_test, y_pred, labels=labels)\n",
        "    print(\"Matriz de confusión:\")\n",
        "    print(cm)"
      ],
      "metadata": {
        "id": "bCiokHs0bZwb"
      },
      "execution_count": 7,
      "outputs": []
    },
    {
      "cell_type": "code",
      "source": [
        "def agrupacion_tabla(var1, var2):\n",
        "  tabla = data.groupby(var1)[var2].sum()\n",
        "  tabla = tabla.sort_values(ascending=False)\n",
        "  df_tabla = pd.DataFrame({var1: tabla.index, var2: tabla.values})\n",
        "  return df_tabla"
      ],
      "metadata": {
        "id": "Xsf6FmQHfzxQ"
      },
      "execution_count": 8,
      "outputs": []
    },
    {
      "cell_type": "markdown",
      "source": [
        "## ANALISIS EXPLORATORIO"
      ],
      "metadata": {
        "id": "Y1qFl3ZiSRUE"
      }
    },
    {
      "cell_type": "markdown",
      "source": [
        "Cargamos los datos"
      ],
      "metadata": {
        "id": "HjxZ2HtAclOx"
      }
    },
    {
      "cell_type": "code",
      "source": [
        "data = pd.read_csv(r'/content/drive/MyDrive/Dataset_Modeling/fraud.csv')"
      ],
      "metadata": {
        "id": "LXHuMhJAb52W"
      },
      "execution_count": 9,
      "outputs": []
    },
    {
      "cell_type": "code",
      "source": [
        "data.head()"
      ],
      "metadata": {
        "colab": {
          "base_uri": "https://localhost:8080/",
          "height": 206
        },
        "id": "TQFxnpr8cfqe",
        "outputId": "b04a20d9-2693-42a8-f490-fb99245a4fa1"
      },
      "execution_count": 10,
      "outputs": [
        {
          "output_type": "execute_result",
          "data": {
            "text/plain": [
              "   step      type    amount     nameOrig  oldbalanceOrg  newbalanceOrig  \\\n",
              "0     1   PAYMENT   9839.64  C1231006815       170136.0       160296.36   \n",
              "1     1   PAYMENT   1864.28  C1666544295        21249.0        19384.72   \n",
              "2     1  TRANSFER    181.00  C1305486145          181.0            0.00   \n",
              "3     1  CASH_OUT    181.00   C840083671          181.0            0.00   \n",
              "4     1   PAYMENT  11668.14  C2048537720        41554.0        29885.86   \n",
              "\n",
              "      nameDest  oldbalanceDest  newbalanceDest  isFraud  isFlaggedFraud  \n",
              "0  M1979787155             0.0             0.0        0               0  \n",
              "1  M2044282225             0.0             0.0        0               0  \n",
              "2   C553264065             0.0             0.0        1               0  \n",
              "3    C38997010         21182.0             0.0        1               0  \n",
              "4  M1230701703             0.0             0.0        0               0  "
            ],
            "text/html": [
              "\n",
              "  <div id=\"df-5fef2561-5f2e-4da4-912c-3bc74bdc7b52\">\n",
              "    <div class=\"colab-df-container\">\n",
              "      <div>\n",
              "<style scoped>\n",
              "    .dataframe tbody tr th:only-of-type {\n",
              "        vertical-align: middle;\n",
              "    }\n",
              "\n",
              "    .dataframe tbody tr th {\n",
              "        vertical-align: top;\n",
              "    }\n",
              "\n",
              "    .dataframe thead th {\n",
              "        text-align: right;\n",
              "    }\n",
              "</style>\n",
              "<table border=\"1\" class=\"dataframe\">\n",
              "  <thead>\n",
              "    <tr style=\"text-align: right;\">\n",
              "      <th></th>\n",
              "      <th>step</th>\n",
              "      <th>type</th>\n",
              "      <th>amount</th>\n",
              "      <th>nameOrig</th>\n",
              "      <th>oldbalanceOrg</th>\n",
              "      <th>newbalanceOrig</th>\n",
              "      <th>nameDest</th>\n",
              "      <th>oldbalanceDest</th>\n",
              "      <th>newbalanceDest</th>\n",
              "      <th>isFraud</th>\n",
              "      <th>isFlaggedFraud</th>\n",
              "    </tr>\n",
              "  </thead>\n",
              "  <tbody>\n",
              "    <tr>\n",
              "      <th>0</th>\n",
              "      <td>1</td>\n",
              "      <td>PAYMENT</td>\n",
              "      <td>9839.64</td>\n",
              "      <td>C1231006815</td>\n",
              "      <td>170136.0</td>\n",
              "      <td>160296.36</td>\n",
              "      <td>M1979787155</td>\n",
              "      <td>0.0</td>\n",
              "      <td>0.0</td>\n",
              "      <td>0</td>\n",
              "      <td>0</td>\n",
              "    </tr>\n",
              "    <tr>\n",
              "      <th>1</th>\n",
              "      <td>1</td>\n",
              "      <td>PAYMENT</td>\n",
              "      <td>1864.28</td>\n",
              "      <td>C1666544295</td>\n",
              "      <td>21249.0</td>\n",
              "      <td>19384.72</td>\n",
              "      <td>M2044282225</td>\n",
              "      <td>0.0</td>\n",
              "      <td>0.0</td>\n",
              "      <td>0</td>\n",
              "      <td>0</td>\n",
              "    </tr>\n",
              "    <tr>\n",
              "      <th>2</th>\n",
              "      <td>1</td>\n",
              "      <td>TRANSFER</td>\n",
              "      <td>181.00</td>\n",
              "      <td>C1305486145</td>\n",
              "      <td>181.0</td>\n",
              "      <td>0.00</td>\n",
              "      <td>C553264065</td>\n",
              "      <td>0.0</td>\n",
              "      <td>0.0</td>\n",
              "      <td>1</td>\n",
              "      <td>0</td>\n",
              "    </tr>\n",
              "    <tr>\n",
              "      <th>3</th>\n",
              "      <td>1</td>\n",
              "      <td>CASH_OUT</td>\n",
              "      <td>181.00</td>\n",
              "      <td>C840083671</td>\n",
              "      <td>181.0</td>\n",
              "      <td>0.00</td>\n",
              "      <td>C38997010</td>\n",
              "      <td>21182.0</td>\n",
              "      <td>0.0</td>\n",
              "      <td>1</td>\n",
              "      <td>0</td>\n",
              "    </tr>\n",
              "    <tr>\n",
              "      <th>4</th>\n",
              "      <td>1</td>\n",
              "      <td>PAYMENT</td>\n",
              "      <td>11668.14</td>\n",
              "      <td>C2048537720</td>\n",
              "      <td>41554.0</td>\n",
              "      <td>29885.86</td>\n",
              "      <td>M1230701703</td>\n",
              "      <td>0.0</td>\n",
              "      <td>0.0</td>\n",
              "      <td>0</td>\n",
              "      <td>0</td>\n",
              "    </tr>\n",
              "  </tbody>\n",
              "</table>\n",
              "</div>\n",
              "      <button class=\"colab-df-convert\" onclick=\"convertToInteractive('df-5fef2561-5f2e-4da4-912c-3bc74bdc7b52')\"\n",
              "              title=\"Convert this dataframe to an interactive table.\"\n",
              "              style=\"display:none;\">\n",
              "        \n",
              "  <svg xmlns=\"http://www.w3.org/2000/svg\" height=\"24px\"viewBox=\"0 0 24 24\"\n",
              "       width=\"24px\">\n",
              "    <path d=\"M0 0h24v24H0V0z\" fill=\"none\"/>\n",
              "    <path d=\"M18.56 5.44l.94 2.06.94-2.06 2.06-.94-2.06-.94-.94-2.06-.94 2.06-2.06.94zm-11 1L8.5 8.5l.94-2.06 2.06-.94-2.06-.94L8.5 2.5l-.94 2.06-2.06.94zm10 10l.94 2.06.94-2.06 2.06-.94-2.06-.94-.94-2.06-.94 2.06-2.06.94z\"/><path d=\"M17.41 7.96l-1.37-1.37c-.4-.4-.92-.59-1.43-.59-.52 0-1.04.2-1.43.59L10.3 9.45l-7.72 7.72c-.78.78-.78 2.05 0 2.83L4 21.41c.39.39.9.59 1.41.59.51 0 1.02-.2 1.41-.59l7.78-7.78 2.81-2.81c.8-.78.8-2.07 0-2.86zM5.41 20L4 18.59l7.72-7.72 1.47 1.35L5.41 20z\"/>\n",
              "  </svg>\n",
              "      </button>\n",
              "      \n",
              "  <style>\n",
              "    .colab-df-container {\n",
              "      display:flex;\n",
              "      flex-wrap:wrap;\n",
              "      gap: 12px;\n",
              "    }\n",
              "\n",
              "    .colab-df-convert {\n",
              "      background-color: #E8F0FE;\n",
              "      border: none;\n",
              "      border-radius: 50%;\n",
              "      cursor: pointer;\n",
              "      display: none;\n",
              "      fill: #1967D2;\n",
              "      height: 32px;\n",
              "      padding: 0 0 0 0;\n",
              "      width: 32px;\n",
              "    }\n",
              "\n",
              "    .colab-df-convert:hover {\n",
              "      background-color: #E2EBFA;\n",
              "      box-shadow: 0px 1px 2px rgba(60, 64, 67, 0.3), 0px 1px 3px 1px rgba(60, 64, 67, 0.15);\n",
              "      fill: #174EA6;\n",
              "    }\n",
              "\n",
              "    [theme=dark] .colab-df-convert {\n",
              "      background-color: #3B4455;\n",
              "      fill: #D2E3FC;\n",
              "    }\n",
              "\n",
              "    [theme=dark] .colab-df-convert:hover {\n",
              "      background-color: #434B5C;\n",
              "      box-shadow: 0px 1px 3px 1px rgba(0, 0, 0, 0.15);\n",
              "      filter: drop-shadow(0px 1px 2px rgba(0, 0, 0, 0.3));\n",
              "      fill: #FFFFFF;\n",
              "    }\n",
              "  </style>\n",
              "\n",
              "      <script>\n",
              "        const buttonEl =\n",
              "          document.querySelector('#df-5fef2561-5f2e-4da4-912c-3bc74bdc7b52 button.colab-df-convert');\n",
              "        buttonEl.style.display =\n",
              "          google.colab.kernel.accessAllowed ? 'block' : 'none';\n",
              "\n",
              "        async function convertToInteractive(key) {\n",
              "          const element = document.querySelector('#df-5fef2561-5f2e-4da4-912c-3bc74bdc7b52');\n",
              "          const dataTable =\n",
              "            await google.colab.kernel.invokeFunction('convertToInteractive',\n",
              "                                                     [key], {});\n",
              "          if (!dataTable) return;\n",
              "\n",
              "          const docLinkHtml = 'Like what you see? Visit the ' +\n",
              "            '<a target=\"_blank\" href=https://colab.research.google.com/notebooks/data_table.ipynb>data table notebook</a>'\n",
              "            + ' to learn more about interactive tables.';\n",
              "          element.innerHTML = '';\n",
              "          dataTable['output_type'] = 'display_data';\n",
              "          await google.colab.output.renderOutput(dataTable, element);\n",
              "          const docLink = document.createElement('div');\n",
              "          docLink.innerHTML = docLinkHtml;\n",
              "          element.appendChild(docLink);\n",
              "        }\n",
              "      </script>\n",
              "    </div>\n",
              "  </div>\n",
              "  "
            ]
          },
          "metadata": {},
          "execution_count": 10
        }
      ]
    },
    {
      "cell_type": "code",
      "source": [
        "data.info()"
      ],
      "metadata": {
        "colab": {
          "base_uri": "https://localhost:8080/"
        },
        "id": "vZCKFcAacpKm",
        "outputId": "821a4f69-0881-4e80-f9e6-7d8ce6f8c07f"
      },
      "execution_count": 11,
      "outputs": [
        {
          "output_type": "stream",
          "name": "stdout",
          "text": [
            "<class 'pandas.core.frame.DataFrame'>\n",
            "RangeIndex: 6362620 entries, 0 to 6362619\n",
            "Data columns (total 11 columns):\n",
            " #   Column          Dtype  \n",
            "---  ------          -----  \n",
            " 0   step            int64  \n",
            " 1   type            object \n",
            " 2   amount          float64\n",
            " 3   nameOrig        object \n",
            " 4   oldbalanceOrg   float64\n",
            " 5   newbalanceOrig  float64\n",
            " 6   nameDest        object \n",
            " 7   oldbalanceDest  float64\n",
            " 8   newbalanceDest  float64\n",
            " 9   isFraud         int64  \n",
            " 10  isFlaggedFraud  int64  \n",
            "dtypes: float64(5), int64(3), object(3)\n",
            "memory usage: 534.0+ MB\n"
          ]
        }
      ]
    },
    {
      "cell_type": "markdown",
      "source": [
        "Todo se encuentra en el formato adecuado"
      ],
      "metadata": {
        "id": "RlD87ysd08Py"
      }
    },
    {
      "cell_type": "code",
      "source": [
        "pd.set_option('float_format', '{:.2f}'.format)\n",
        "data.describe()"
      ],
      "metadata": {
        "colab": {
          "base_uri": "https://localhost:8080/",
          "height": 300
        },
        "id": "B5av1fBn29cl",
        "outputId": "2e824112-6856-4f64-ea18-f63cc5fc4ee7"
      },
      "execution_count": 12,
      "outputs": [
        {
          "output_type": "execute_result",
          "data": {
            "text/plain": [
              "            step      amount  oldbalanceOrg  newbalanceOrig  oldbalanceDest  \\\n",
              "count 6362620.00  6362620.00     6362620.00      6362620.00      6362620.00   \n",
              "mean      243.40   179861.90      833883.10       855113.67      1100701.67   \n",
              "std       142.33   603858.23     2888242.67      2924048.50      3399180.11   \n",
              "min         1.00        0.00           0.00            0.00            0.00   \n",
              "25%       156.00    13389.57           0.00            0.00            0.00   \n",
              "50%       239.00    74871.94       14208.00            0.00       132705.66   \n",
              "75%       335.00   208721.48      107315.18       144258.41       943036.71   \n",
              "max       743.00 92445516.64    59585040.37     49585040.37    356015889.35   \n",
              "\n",
              "       newbalanceDest    isFraud  isFlaggedFraud  \n",
              "count      6362620.00 6362620.00      6362620.00  \n",
              "mean       1224996.40       0.00            0.00  \n",
              "std        3674128.94       0.04            0.00  \n",
              "min              0.00       0.00            0.00  \n",
              "25%              0.00       0.00            0.00  \n",
              "50%         214661.44       0.00            0.00  \n",
              "75%        1111909.25       0.00            0.00  \n",
              "max      356179278.92       1.00            1.00  "
            ],
            "text/html": [
              "\n",
              "  <div id=\"df-6272c8b1-d7b9-4da4-846b-98139272159a\">\n",
              "    <div class=\"colab-df-container\">\n",
              "      <div>\n",
              "<style scoped>\n",
              "    .dataframe tbody tr th:only-of-type {\n",
              "        vertical-align: middle;\n",
              "    }\n",
              "\n",
              "    .dataframe tbody tr th {\n",
              "        vertical-align: top;\n",
              "    }\n",
              "\n",
              "    .dataframe thead th {\n",
              "        text-align: right;\n",
              "    }\n",
              "</style>\n",
              "<table border=\"1\" class=\"dataframe\">\n",
              "  <thead>\n",
              "    <tr style=\"text-align: right;\">\n",
              "      <th></th>\n",
              "      <th>step</th>\n",
              "      <th>amount</th>\n",
              "      <th>oldbalanceOrg</th>\n",
              "      <th>newbalanceOrig</th>\n",
              "      <th>oldbalanceDest</th>\n",
              "      <th>newbalanceDest</th>\n",
              "      <th>isFraud</th>\n",
              "      <th>isFlaggedFraud</th>\n",
              "    </tr>\n",
              "  </thead>\n",
              "  <tbody>\n",
              "    <tr>\n",
              "      <th>count</th>\n",
              "      <td>6362620.00</td>\n",
              "      <td>6362620.00</td>\n",
              "      <td>6362620.00</td>\n",
              "      <td>6362620.00</td>\n",
              "      <td>6362620.00</td>\n",
              "      <td>6362620.00</td>\n",
              "      <td>6362620.00</td>\n",
              "      <td>6362620.00</td>\n",
              "    </tr>\n",
              "    <tr>\n",
              "      <th>mean</th>\n",
              "      <td>243.40</td>\n",
              "      <td>179861.90</td>\n",
              "      <td>833883.10</td>\n",
              "      <td>855113.67</td>\n",
              "      <td>1100701.67</td>\n",
              "      <td>1224996.40</td>\n",
              "      <td>0.00</td>\n",
              "      <td>0.00</td>\n",
              "    </tr>\n",
              "    <tr>\n",
              "      <th>std</th>\n",
              "      <td>142.33</td>\n",
              "      <td>603858.23</td>\n",
              "      <td>2888242.67</td>\n",
              "      <td>2924048.50</td>\n",
              "      <td>3399180.11</td>\n",
              "      <td>3674128.94</td>\n",
              "      <td>0.04</td>\n",
              "      <td>0.00</td>\n",
              "    </tr>\n",
              "    <tr>\n",
              "      <th>min</th>\n",
              "      <td>1.00</td>\n",
              "      <td>0.00</td>\n",
              "      <td>0.00</td>\n",
              "      <td>0.00</td>\n",
              "      <td>0.00</td>\n",
              "      <td>0.00</td>\n",
              "      <td>0.00</td>\n",
              "      <td>0.00</td>\n",
              "    </tr>\n",
              "    <tr>\n",
              "      <th>25%</th>\n",
              "      <td>156.00</td>\n",
              "      <td>13389.57</td>\n",
              "      <td>0.00</td>\n",
              "      <td>0.00</td>\n",
              "      <td>0.00</td>\n",
              "      <td>0.00</td>\n",
              "      <td>0.00</td>\n",
              "      <td>0.00</td>\n",
              "    </tr>\n",
              "    <tr>\n",
              "      <th>50%</th>\n",
              "      <td>239.00</td>\n",
              "      <td>74871.94</td>\n",
              "      <td>14208.00</td>\n",
              "      <td>0.00</td>\n",
              "      <td>132705.66</td>\n",
              "      <td>214661.44</td>\n",
              "      <td>0.00</td>\n",
              "      <td>0.00</td>\n",
              "    </tr>\n",
              "    <tr>\n",
              "      <th>75%</th>\n",
              "      <td>335.00</td>\n",
              "      <td>208721.48</td>\n",
              "      <td>107315.18</td>\n",
              "      <td>144258.41</td>\n",
              "      <td>943036.71</td>\n",
              "      <td>1111909.25</td>\n",
              "      <td>0.00</td>\n",
              "      <td>0.00</td>\n",
              "    </tr>\n",
              "    <tr>\n",
              "      <th>max</th>\n",
              "      <td>743.00</td>\n",
              "      <td>92445516.64</td>\n",
              "      <td>59585040.37</td>\n",
              "      <td>49585040.37</td>\n",
              "      <td>356015889.35</td>\n",
              "      <td>356179278.92</td>\n",
              "      <td>1.00</td>\n",
              "      <td>1.00</td>\n",
              "    </tr>\n",
              "  </tbody>\n",
              "</table>\n",
              "</div>\n",
              "      <button class=\"colab-df-convert\" onclick=\"convertToInteractive('df-6272c8b1-d7b9-4da4-846b-98139272159a')\"\n",
              "              title=\"Convert this dataframe to an interactive table.\"\n",
              "              style=\"display:none;\">\n",
              "        \n",
              "  <svg xmlns=\"http://www.w3.org/2000/svg\" height=\"24px\"viewBox=\"0 0 24 24\"\n",
              "       width=\"24px\">\n",
              "    <path d=\"M0 0h24v24H0V0z\" fill=\"none\"/>\n",
              "    <path d=\"M18.56 5.44l.94 2.06.94-2.06 2.06-.94-2.06-.94-.94-2.06-.94 2.06-2.06.94zm-11 1L8.5 8.5l.94-2.06 2.06-.94-2.06-.94L8.5 2.5l-.94 2.06-2.06.94zm10 10l.94 2.06.94-2.06 2.06-.94-2.06-.94-.94-2.06-.94 2.06-2.06.94z\"/><path d=\"M17.41 7.96l-1.37-1.37c-.4-.4-.92-.59-1.43-.59-.52 0-1.04.2-1.43.59L10.3 9.45l-7.72 7.72c-.78.78-.78 2.05 0 2.83L4 21.41c.39.39.9.59 1.41.59.51 0 1.02-.2 1.41-.59l7.78-7.78 2.81-2.81c.8-.78.8-2.07 0-2.86zM5.41 20L4 18.59l7.72-7.72 1.47 1.35L5.41 20z\"/>\n",
              "  </svg>\n",
              "      </button>\n",
              "      \n",
              "  <style>\n",
              "    .colab-df-container {\n",
              "      display:flex;\n",
              "      flex-wrap:wrap;\n",
              "      gap: 12px;\n",
              "    }\n",
              "\n",
              "    .colab-df-convert {\n",
              "      background-color: #E8F0FE;\n",
              "      border: none;\n",
              "      border-radius: 50%;\n",
              "      cursor: pointer;\n",
              "      display: none;\n",
              "      fill: #1967D2;\n",
              "      height: 32px;\n",
              "      padding: 0 0 0 0;\n",
              "      width: 32px;\n",
              "    }\n",
              "\n",
              "    .colab-df-convert:hover {\n",
              "      background-color: #E2EBFA;\n",
              "      box-shadow: 0px 1px 2px rgba(60, 64, 67, 0.3), 0px 1px 3px 1px rgba(60, 64, 67, 0.15);\n",
              "      fill: #174EA6;\n",
              "    }\n",
              "\n",
              "    [theme=dark] .colab-df-convert {\n",
              "      background-color: #3B4455;\n",
              "      fill: #D2E3FC;\n",
              "    }\n",
              "\n",
              "    [theme=dark] .colab-df-convert:hover {\n",
              "      background-color: #434B5C;\n",
              "      box-shadow: 0px 1px 3px 1px rgba(0, 0, 0, 0.15);\n",
              "      filter: drop-shadow(0px 1px 2px rgba(0, 0, 0, 0.3));\n",
              "      fill: #FFFFFF;\n",
              "    }\n",
              "  </style>\n",
              "\n",
              "      <script>\n",
              "        const buttonEl =\n",
              "          document.querySelector('#df-6272c8b1-d7b9-4da4-846b-98139272159a button.colab-df-convert');\n",
              "        buttonEl.style.display =\n",
              "          google.colab.kernel.accessAllowed ? 'block' : 'none';\n",
              "\n",
              "        async function convertToInteractive(key) {\n",
              "          const element = document.querySelector('#df-6272c8b1-d7b9-4da4-846b-98139272159a');\n",
              "          const dataTable =\n",
              "            await google.colab.kernel.invokeFunction('convertToInteractive',\n",
              "                                                     [key], {});\n",
              "          if (!dataTable) return;\n",
              "\n",
              "          const docLinkHtml = 'Like what you see? Visit the ' +\n",
              "            '<a target=\"_blank\" href=https://colab.research.google.com/notebooks/data_table.ipynb>data table notebook</a>'\n",
              "            + ' to learn more about interactive tables.';\n",
              "          element.innerHTML = '';\n",
              "          dataTable['output_type'] = 'display_data';\n",
              "          await google.colab.output.renderOutput(dataTable, element);\n",
              "          const docLink = document.createElement('div');\n",
              "          docLink.innerHTML = docLinkHtml;\n",
              "          element.appendChild(docLink);\n",
              "        }\n",
              "      </script>\n",
              "    </div>\n",
              "  </div>\n",
              "  "
            ]
          },
          "metadata": {},
          "execution_count": 12
        }
      ]
    },
    {
      "cell_type": "markdown",
      "source": [
        "Se puede ver como los valores máximos son enormes en comparación a la media por lo tanto seguramente veamos outliers. Tambien tiene pinta de estar el dataset desbalanceado. Se puede ver como isFraud y isFlaggedFraud no son iguales."
      ],
      "metadata": {
        "id": "PYNOR2SD4ptI"
      }
    },
    {
      "cell_type": "code",
      "source": [
        "data.isnull().sum()"
      ],
      "metadata": {
        "colab": {
          "base_uri": "https://localhost:8080/"
        },
        "id": "mhjpKGvZdtDF",
        "outputId": "5019b1e0-1ef8-4db0-f8a1-875fa683190a"
      },
      "execution_count": 13,
      "outputs": [
        {
          "output_type": "execute_result",
          "data": {
            "text/plain": [
              "step              0\n",
              "type              0\n",
              "amount            0\n",
              "nameOrig          0\n",
              "oldbalanceOrg     0\n",
              "newbalanceOrig    0\n",
              "nameDest          0\n",
              "oldbalanceDest    0\n",
              "newbalanceDest    0\n",
              "isFraud           0\n",
              "isFlaggedFraud    0\n",
              "dtype: int64"
            ]
          },
          "metadata": {},
          "execution_count": 13
        }
      ]
    },
    {
      "cell_type": "code",
      "source": [
        "data.hist(bins = 5, figsize =(20,15))"
      ],
      "metadata": {
        "colab": {
          "base_uri": "https://localhost:8080/",
          "height": 1000
        },
        "id": "V_0p2oO1z0XJ",
        "outputId": "96db4ecf-cfe4-467e-9425-1dde02e4b43f"
      },
      "execution_count": 14,
      "outputs": [
        {
          "output_type": "execute_result",
          "data": {
            "text/plain": [
              "array([[<AxesSubplot:title={'center':'step'}>,\n",
              "        <AxesSubplot:title={'center':'amount'}>,\n",
              "        <AxesSubplot:title={'center':'oldbalanceOrg'}>],\n",
              "       [<AxesSubplot:title={'center':'newbalanceOrig'}>,\n",
              "        <AxesSubplot:title={'center':'oldbalanceDest'}>,\n",
              "        <AxesSubplot:title={'center':'newbalanceDest'}>],\n",
              "       [<AxesSubplot:title={'center':'isFraud'}>,\n",
              "        <AxesSubplot:title={'center':'isFlaggedFraud'}>, <AxesSubplot:>]],\n",
              "      dtype=object)"
            ]
          },
          "metadata": {},
          "execution_count": 14
        },
        {
          "output_type": "display_data",
          "data": {
            "text/plain": [
              "<Figure size 1440x1080 with 9 Axes>"
            ],
            "image/png": "[encoded data removed]"
          },
          "metadata": {
            "needs_background": "light"
          }
        }
      ]
    },
    {
      "cell_type": "code",
      "source": [
        "print_outliers(data, variables = ['step','amount','oldbalanceOrg','newbalanceOrig','oldbalanceDest','newbalanceDest'])"
      ],
      "metadata": {
        "colab": {
          "base_uri": "https://localhost:8080/",
          "height": 1000
        },
        "id": "IrECyuFz2cMZ",
        "outputId": "c1d67fd2-c13e-4c9f-a40f-ccb3335dab7f"
      },
      "execution_count": 15,
      "outputs": [
        {
          "output_type": "stream",
          "name": "stderr",
          "text": [
            "/usr/local/lib/python3.9/dist-packages/seaborn/_decorators.py:36: FutureWarning: Pass the following variable as a keyword arg: x. From version 0.12, the only valid positional argument will be `data`, and passing other arguments without an explicit keyword will result in an error or misinterpretation.\n",
            "  warnings.warn(\n"
          ]
        },
        {
          "output_type": "display_data",
          "data": {
            "text/plain": [
              "<Figure size 432x288 with 1 Axes>"
            ],
            "image/png": "[encoded data removed]"
          },
          "metadata": {
            "needs_background": "light"
          }
        },
        {
          "output_type": "stream",
          "name": "stderr",
          "text": [
            "/usr/local/lib/python3.9/dist-packages/seaborn/_decorators.py:36: FutureWarning: Pass the following variable as a keyword arg: x. From version 0.12, the only valid positional argument will be `data`, and passing other arguments without an explicit keyword will result in an error or misinterpretation.\n",
            "  warnings.warn(\n"
          ]
        },
        {
          "output_type": "display_data",
          "data": {
            "text/plain": [
              "<Figure size 432x288 with 1 Axes>"
            ],
            "image/png": "[encoded data removed]"
          },
          "metadata": {
            "needs_background": "light"
          }
        },
        {
          "output_type": "stream",
          "name": "stderr",
          "text": [
            "/usr/local/lib/python3.9/dist-packages/seaborn/_decorators.py:36: FutureWarning: Pass the following variable as a keyword arg: x. From version 0.12, the only valid positional argument will be `data`, and passing other arguments without an explicit keyword will result in an error or misinterpretation.\n",
            "  warnings.warn(\n"
          ]
        },
        {
          "output_type": "display_data",
          "data": {
            "text/plain": [
              "<Figure size 432x288 with 1 Axes>"
            ],
            "image/png": "[encoded data removed]"
          },
          "metadata": {
            "needs_background": "light"
          }
        },
        {
          "output_type": "stream",
          "name": "stderr",
          "text": [
            "/usr/local/lib/python3.9/dist-packages/seaborn/_decorators.py:36: FutureWarning: Pass the following variable as a keyword arg: x. From version 0.12, the only valid positional argument will be `data`, and passing other arguments without an explicit keyword will result in an error or misinterpretation.\n",
            "  warnings.warn(\n"
          ]
        },
        {
          "output_type": "display_data",
          "data": {
            "text/plain": [
              "<Figure size 432x288 with 1 Axes>"
            ],
            "image/png": "[encoded data removed]"
          },
          "metadata": {
            "needs_background": "light"
          }
        },
        {
          "output_type": "stream",
          "name": "stderr",
          "text": [
            "/usr/local/lib/python3.9/dist-packages/seaborn/_decorators.py:36: FutureWarning: Pass the following variable as a keyword arg: x. From version 0.12, the only valid positional argument will be `data`, and passing other arguments without an explicit keyword will result in an error or misinterpretation.\n",
            "  warnings.warn(\n"
          ]
        },
        {
          "output_type": "display_data",
          "data": {
            "text/plain": [
              "<Figure size 432x288 with 1 Axes>"
            ],
            "image/png": "[encoded data removed]"
          },
          "metadata": {
            "needs_background": "light"
          }
        },
        {
          "output_type": "stream",
          "name": "stderr",
          "text": [
            "/usr/local/lib/python3.9/dist-packages/seaborn/_decorators.py:36: FutureWarning: Pass the following variable as a keyword arg: x. From version 0.12, the only valid positional argument will be `data`, and passing other arguments without an explicit keyword will result in an error or misinterpretation.\n",
            "  warnings.warn(\n"
          ]
        },
        {
          "output_type": "display_data",
          "data": {
            "text/plain": [
              "<Figure size 432x288 with 1 Axes>"
            ],
            "image/png": "[encoded data removed]"
          },
          "metadata": {
            "needs_background": "light"
          }
        }
      ]
    },
    {
      "cell_type": "markdown",
      "source": [
        "Hay una cantidad de outliers brutal que deben eliminarse para no meter ruido en el modelo y poder predecir mejor"
      ],
      "metadata": {
        "id": "Zc-WWzql50TO"
      }
    },
    {
      "cell_type": "code",
      "source": [
        "clientes_orig = agrupacion_tabla('nameOrig', 'amount')\n",
        "clientes_orig"
      ],
      "metadata": {
        "colab": {
          "base_uri": "https://localhost:8080/",
          "height": 424
        },
        "id": "rtZ5PbmVfJRZ",
        "outputId": "d597357e-e88a-4cf5-93ce-02ca9b8b70d3"
      },
      "execution_count": 16,
      "outputs": [
        {
          "output_type": "execute_result",
          "data": {
            "text/plain": [
              "            nameOrig      amount\n",
              "0        C1715283297 92445516.64\n",
              "1        C2127282686 73823490.36\n",
              "2        C2044643633 71172480.42\n",
              "3        C1425667947 69886731.30\n",
              "4        C1584456031 69337316.27\n",
              "...              ...         ...\n",
              "6353302  C1294472700        0.00\n",
              "6353303    C69493310        0.00\n",
              "6353304   C539112012        0.00\n",
              "6353305   C832555372        0.00\n",
              "6353306  C2088151490        0.00\n",
              "\n",
              "[6353307 rows x 2 columns]"
            ],
            "text/html": [
              "\n",
              "  <div id=\"df-c0b96610-b804-460b-8ca6-d9a0a5edbc69\">\n",
              "    <div class=\"colab-df-container\">\n",
              "      <div>\n",
              "<style scoped>\n",
              "    .dataframe tbody tr th:only-of-type {\n",
              "        vertical-align: middle;\n",
              "    }\n",
              "\n",
              "    .dataframe tbody tr th {\n",
              "        vertical-align: top;\n",
              "    }\n",
              "\n",
              "    .dataframe thead th {\n",
              "        text-align: right;\n",
              "    }\n",
              "</style>\n",
              "<table border=\"1\" class=\"dataframe\">\n",
              "  <thead>\n",
              "    <tr style=\"text-align: right;\">\n",
              "      <th></th>\n",
              "      <th>nameOrig</th>\n",
              "      <th>amount</th>\n",
              "    </tr>\n",
              "  </thead>\n",
              "  <tbody>\n",
              "    <tr>\n",
              "      <th>0</th>\n",
              "      <td>C1715283297</td>\n",
              "      <td>92445516.64</td>\n",
              "    </tr>\n",
              "    <tr>\n",
              "      <th>1</th>\n",
              "      <td>C2127282686</td>\n",
              "      <td>73823490.36</td>\n",
              "    </tr>\n",
              "    <tr>\n",
              "      <th>2</th>\n",
              "      <td>C2044643633</td>\n",
              "      <td>71172480.42</td>\n",
              "    </tr>\n",
              "    <tr>\n",
              "      <th>3</th>\n",
              "      <td>C1425667947</td>\n",
              "      <td>69886731.30</td>\n",
              "    </tr>\n",
              "    <tr>\n",
              "      <th>4</th>\n",
              "      <td>C1584456031</td>\n",
              "      <td>69337316.27</td>\n",
              "    </tr>\n",
              "    <tr>\n",
              "      <th>...</th>\n",
              "      <td>...</td>\n",
              "      <td>...</td>\n",
              "    </tr>\n",
              "    <tr>\n",
              "      <th>6353302</th>\n",
              "      <td>C1294472700</td>\n",
              "      <td>0.00</td>\n",
              "    </tr>\n",
              "    <tr>\n",
              "      <th>6353303</th>\n",
              "      <td>C69493310</td>\n",
              "      <td>0.00</td>\n",
              "    </tr>\n",
              "    <tr>\n",
              "      <th>6353304</th>\n",
              "      <td>C539112012</td>\n",
              "      <td>0.00</td>\n",
              "    </tr>\n",
              "    <tr>\n",
              "      <th>6353305</th>\n",
              "      <td>C832555372</td>\n",
              "      <td>0.00</td>\n",
              "    </tr>\n",
              "    <tr>\n",
              "      <th>6353306</th>\n",
              "      <td>C2088151490</td>\n",
              "      <td>0.00</td>\n",
              "    </tr>\n",
              "  </tbody>\n",
              "</table>\n",
              "<p>6353307 rows × 2 columns</p>\n",
              "</div>\n",
              "      <button class=\"colab-df-convert\" onclick=\"convertToInteractive('df-c0b96610-b804-460b-8ca6-d9a0a5edbc69')\"\n",
              "              title=\"Convert this dataframe to an interactive table.\"\n",
              "              style=\"display:none;\">\n",
              "        \n",
              "  <svg xmlns=\"http://www.w3.org/2000/svg\" height=\"24px\"viewBox=\"0 0 24 24\"\n",
              "       width=\"24px\">\n",
              "    <path d=\"M0 0h24v24H0V0z\" fill=\"none\"/>\n",
              "    <path d=\"M18.56 5.44l.94 2.06.94-2.06 2.06-.94-2.06-.94-.94-2.06-.94 2.06-2.06.94zm-11 1L8.5 8.5l.94-2.06 2.06-.94-2.06-.94L8.5 2.5l-.94 2.06-2.06.94zm10 10l.94 2.06.94-2.06 2.06-.94-2.06-.94-.94-2.06-.94 2.06-2.06.94z\"/><path d=\"M17.41 7.96l-1.37-1.37c-.4-.4-.92-.59-1.43-.59-.52 0-1.04.2-1.43.59L10.3 9.45l-7.72 7.72c-.78.78-.78 2.05 0 2.83L4 21.41c.39.39.9.59 1.41.59.51 0 1.02-.2 1.41-.59l7.78-7.78 2.81-2.81c.8-.78.8-2.07 0-2.86zM5.41 20L4 18.59l7.72-7.72 1.47 1.35L5.41 20z\"/>\n",
              "  </svg>\n",
              "      </button>\n",
              "      \n",
              "  <style>\n",
              "    .colab-df-container {\n",
              "      display:flex;\n",
              "      flex-wrap:wrap;\n",
              "      gap: 12px;\n",
              "    }\n",
              "\n",
              "    .colab-df-convert {\n",
              "      background-color: #E8F0FE;\n",
              "      border: none;\n",
              "      border-radius: 50%;\n",
              "      cursor: pointer;\n",
              "      display: none;\n",
              "      fill: #1967D2;\n",
              "      height: 32px;\n",
              "      padding: 0 0 0 0;\n",
              "      width: 32px;\n",
              "    }\n",
              "\n",
              "    .colab-df-convert:hover {\n",
              "      background-color: #E2EBFA;\n",
              "      box-shadow: 0px 1px 2px rgba(60, 64, 67, 0.3), 0px 1px 3px 1px rgba(60, 64, 67, 0.15);\n",
              "      fill: #174EA6;\n",
              "    }\n",
              "\n",
              "    [theme=dark] .colab-df-convert {\n",
              "      background-color: #3B4455;\n",
              "      fill: #D2E3FC;\n",
              "    }\n",
              "\n",
              "    [theme=dark] .colab-df-convert:hover {\n",
              "      background-color: #434B5C;\n",
              "      box-shadow: 0px 1px 3px 1px rgba(0, 0, 0, 0.15);\n",
              "      filter: drop-shadow(0px 1px 2px rgba(0, 0, 0, 0.3));\n",
              "      fill: #FFFFFF;\n",
              "    }\n",
              "  </style>\n",
              "\n",
              "      <script>\n",
              "        const buttonEl =\n",
              "          document.querySelector('#df-c0b96610-b804-460b-8ca6-d9a0a5edbc69 button.colab-df-convert');\n",
              "        buttonEl.style.display =\n",
              "          google.colab.kernel.accessAllowed ? 'block' : 'none';\n",
              "\n",
              "        async function convertToInteractive(key) {\n",
              "          const element = document.querySelector('#df-c0b96610-b804-460b-8ca6-d9a0a5edbc69');\n",
              "          const dataTable =\n",
              "            await google.colab.kernel.invokeFunction('convertToInteractive',\n",
              "                                                     [key], {});\n",
              "          if (!dataTable) return;\n",
              "\n",
              "          const docLinkHtml = 'Like what you see? Visit the ' +\n",
              "            '<a target=\"_blank\" href=https://colab.research.google.com/notebooks/data_table.ipynb>data table notebook</a>'\n",
              "            + ' to learn more about interactive tables.';\n",
              "          element.innerHTML = '';\n",
              "          dataTable['output_type'] = 'display_data';\n",
              "          await google.colab.output.renderOutput(dataTable, element);\n",
              "          const docLink = document.createElement('div');\n",
              "          docLink.innerHTML = docLinkHtml;\n",
              "          element.appendChild(docLink);\n",
              "        }\n",
              "      </script>\n",
              "    </div>\n",
              "  </div>\n",
              "  "
            ]
          },
          "metadata": {},
          "execution_count": 16
        }
      ]
    },
    {
      "cell_type": "code",
      "source": [
        "clientes_dest = agrupacion_tabla('nameDest', 'amount')\n",
        "clientes_dest"
      ],
      "metadata": {
        "colab": {
          "base_uri": "https://localhost:8080/",
          "height": 424
        },
        "id": "CCaTEAScfpfd",
        "outputId": "625e7dad-d0e4-4023-da56-6b45104fc113"
      },
      "execution_count": 17,
      "outputs": [
        {
          "output_type": "execute_result",
          "data": {
            "text/plain": [
              "            nameDest       amount\n",
              "0         C439737079 357440831.44\n",
              "1         C707403537 299374418.42\n",
              "2         C167875008 274736432.80\n",
              "3          C20253152 270116188.69\n",
              "4         C172409641 255310174.25\n",
              "...              ...          ...\n",
              "2722357   M646412904         0.02\n",
              "2722358   M410442874         0.02\n",
              "2722359   C601248796         0.00\n",
              "2722360  C1156763710         0.00\n",
              "2722361  C1352345416         0.00\n",
              "\n",
              "[2722362 rows x 2 columns]"
            ],
            "text/html": [
              "\n",
              "  <div id=\"df-0ba0e1e4-dfbc-4a13-a50a-d0459a274a1f\">\n",
              "    <div class=\"colab-df-container\">\n",
              "      <div>\n",
              "<style scoped>\n",
              "    .dataframe tbody tr th:only-of-type {\n",
              "        vertical-align: middle;\n",
              "    }\n",
              "\n",
              "    .dataframe tbody tr th {\n",
              "        vertical-align: top;\n",
              "    }\n",
              "\n",
              "    .dataframe thead th {\n",
              "        text-align: right;\n",
              "    }\n",
              "</style>\n",
              "<table border=\"1\" class=\"dataframe\">\n",
              "  <thead>\n",
              "    <tr style=\"text-align: right;\">\n",
              "      <th></th>\n",
              "      <th>nameDest</th>\n",
              "      <th>amount</th>\n",
              "    </tr>\n",
              "  </thead>\n",
              "  <tbody>\n",
              "    <tr>\n",
              "      <th>0</th>\n",
              "      <td>C439737079</td>\n",
              "      <td>357440831.44</td>\n",
              "    </tr>\n",
              "    <tr>\n",
              "      <th>1</th>\n",
              "      <td>C707403537</td>\n",
              "      <td>299374418.42</td>\n",
              "    </tr>\n",
              "    <tr>\n",
              "      <th>2</th>\n",
              "      <td>C167875008</td>\n",
              "      <td>274736432.80</td>\n",
              "    </tr>\n",
              "    <tr>\n",
              "      <th>3</th>\n",
              "      <td>C20253152</td>\n",
              "      <td>270116188.69</td>\n",
              "    </tr>\n",
              "    <tr>\n",
              "      <th>4</th>\n",
              "      <td>C172409641</td>\n",
              "      <td>255310174.25</td>\n",
              "    </tr>\n",
              "    <tr>\n",
              "      <th>...</th>\n",
              "      <td>...</td>\n",
              "      <td>...</td>\n",
              "    </tr>\n",
              "    <tr>\n",
              "      <th>2722357</th>\n",
              "      <td>M646412904</td>\n",
              "      <td>0.02</td>\n",
              "    </tr>\n",
              "    <tr>\n",
              "      <th>2722358</th>\n",
              "      <td>M410442874</td>\n",
              "      <td>0.02</td>\n",
              "    </tr>\n",
              "    <tr>\n",
              "      <th>2722359</th>\n",
              "      <td>C601248796</td>\n",
              "      <td>0.00</td>\n",
              "    </tr>\n",
              "    <tr>\n",
              "      <th>2722360</th>\n",
              "      <td>C1156763710</td>\n",
              "      <td>0.00</td>\n",
              "    </tr>\n",
              "    <tr>\n",
              "      <th>2722361</th>\n",
              "      <td>C1352345416</td>\n",
              "      <td>0.00</td>\n",
              "    </tr>\n",
              "  </tbody>\n",
              "</table>\n",
              "<p>2722362 rows × 2 columns</p>\n",
              "</div>\n",
              "      <button class=\"colab-df-convert\" onclick=\"convertToInteractive('df-0ba0e1e4-dfbc-4a13-a50a-d0459a274a1f')\"\n",
              "              title=\"Convert this dataframe to an interactive table.\"\n",
              "              style=\"display:none;\">\n",
              "        \n",
              "  <svg xmlns=\"http://www.w3.org/2000/svg\" height=\"24px\"viewBox=\"0 0 24 24\"\n",
              "       width=\"24px\">\n",
              "    <path d=\"M0 0h24v24H0V0z\" fill=\"none\"/>\n",
              "    <path d=\"M18.56 5.44l.94 2.06.94-2.06 2.06-.94-2.06-.94-.94-2.06-.94 2.06-2.06.94zm-11 1L8.5 8.5l.94-2.06 2.06-.94-2.06-.94L8.5 2.5l-.94 2.06-2.06.94zm10 10l.94 2.06.94-2.06 2.06-.94-2.06-.94-.94-2.06-.94 2.06-2.06.94z\"/><path d=\"M17.41 7.96l-1.37-1.37c-.4-.4-.92-.59-1.43-.59-.52 0-1.04.2-1.43.59L10.3 9.45l-7.72 7.72c-.78.78-.78 2.05 0 2.83L4 21.41c.39.39.9.59 1.41.59.51 0 1.02-.2 1.41-.59l7.78-7.78 2.81-2.81c.8-.78.8-2.07 0-2.86zM5.41 20L4 18.59l7.72-7.72 1.47 1.35L5.41 20z\"/>\n",
              "  </svg>\n",
              "      </button>\n",
              "      \n",
              "  <style>\n",
              "    .colab-df-container {\n",
              "      display:flex;\n",
              "      flex-wrap:wrap;\n",
              "      gap: 12px;\n",
              "    }\n",
              "\n",
              "    .colab-df-convert {\n",
              "      background-color: #E8F0FE;\n",
              "      border: none;\n",
              "      border-radius: 50%;\n",
              "      cursor: pointer;\n",
              "      display: none;\n",
              "      fill: #1967D2;\n",
              "      height: 32px;\n",
              "      padding: 0 0 0 0;\n",
              "      width: 32px;\n",
              "    }\n",
              "\n",
              "    .colab-df-convert:hover {\n",
              "      background-color: #E2EBFA;\n",
              "      box-shadow: 0px 1px 2px rgba(60, 64, 67, 0.3), 0px 1px 3px 1px rgba(60, 64, 67, 0.15);\n",
              "      fill: #174EA6;\n",
              "    }\n",
              "\n",
              "    [theme=dark] .colab-df-convert {\n",
              "      background-color: #3B4455;\n",
              "      fill: #D2E3FC;\n",
              "    }\n",
              "\n",
              "    [theme=dark] .colab-df-convert:hover {\n",
              "      background-color: #434B5C;\n",
              "      box-shadow: 0px 1px 3px 1px rgba(0, 0, 0, 0.15);\n",
              "      filter: drop-shadow(0px 1px 2px rgba(0, 0, 0, 0.3));\n",
              "      fill: #FFFFFF;\n",
              "    }\n",
              "  </style>\n",
              "\n",
              "      <script>\n",
              "        const buttonEl =\n",
              "          document.querySelector('#df-0ba0e1e4-dfbc-4a13-a50a-d0459a274a1f button.colab-df-convert');\n",
              "        buttonEl.style.display =\n",
              "          google.colab.kernel.accessAllowed ? 'block' : 'none';\n",
              "\n",
              "        async function convertToInteractive(key) {\n",
              "          const element = document.querySelector('#df-0ba0e1e4-dfbc-4a13-a50a-d0459a274a1f');\n",
              "          const dataTable =\n",
              "            await google.colab.kernel.invokeFunction('convertToInteractive',\n",
              "                                                     [key], {});\n",
              "          if (!dataTable) return;\n",
              "\n",
              "          const docLinkHtml = 'Like what you see? Visit the ' +\n",
              "            '<a target=\"_blank\" href=https://colab.research.google.com/notebooks/data_table.ipynb>data table notebook</a>'\n",
              "            + ' to learn more about interactive tables.';\n",
              "          element.innerHTML = '';\n",
              "          dataTable['output_type'] = 'display_data';\n",
              "          await google.colab.output.renderOutput(dataTable, element);\n",
              "          const docLink = document.createElement('div');\n",
              "          docLink.innerHTML = docLinkHtml;\n",
              "          element.appendChild(docLink);\n",
              "        }\n",
              "      </script>\n",
              "    </div>\n",
              "  </div>\n",
              "  "
            ]
          },
          "metadata": {},
          "execution_count": 17
        }
      ]
    },
    {
      "cell_type": "markdown",
      "source": [
        "Hay muchisima diferencia entre los clientes que hace y reciben dinero frente a los que no"
      ],
      "metadata": {
        "id": "CgNvgdI81bvq"
      }
    },
    {
      "cell_type": "markdown",
      "source": [
        "Filtramos los valores atipicos para eliminar outliers"
      ],
      "metadata": {
        "id": "YBItV4IZ0xd9"
      }
    },
    {
      "cell_type": "code",
      "source": [
        "data_filtered = clear_outliers(data, variables = ['amount','oldbalanceOrg','newbalanceOrig','oldbalanceDest','newbalanceDest'])"
      ],
      "metadata": {
        "colab": {
          "base_uri": "https://localhost:8080/"
        },
        "id": "HjdrDeD5wtto",
        "outputId": "d23e1313-983a-45d0-df90-018a26595ebe"
      },
      "execution_count": 18,
      "outputs": [
        {
          "output_type": "stream",
          "name": "stderr",
          "text": [
            "<ipython-input-2-1e0b1dfc75fc>:4: DeprecationWarning: the `interpolation=` argument to percentile was renamed to `method=`, which has additional options.\n",
            "Users of the modes 'nearest', 'lower', 'higher', or 'midpoint' are encouraged to review the method they. (Deprecated NumPy 1.22)\n",
            "  Q3 = np.percentile(data[i], 25, interpolation = 'midpoint')\n",
            "<ipython-input-2-1e0b1dfc75fc>:5: DeprecationWarning: the `interpolation=` argument to percentile was renamed to `method=`, which has additional options.\n",
            "Users of the modes 'nearest', 'lower', 'higher', or 'midpoint' are encouraged to review the method they. (Deprecated NumPy 1.22)\n",
            "  Q1 = np.percentile(data[i], 75, interpolation = 'midpoint')\n"
          ]
        }
      ]
    },
    {
      "cell_type": "code",
      "source": [
        "data_filtered.hist(bins = 5, figsize =(20,15))"
      ],
      "metadata": {
        "colab": {
          "base_uri": "https://localhost:8080/",
          "height": 1000
        },
        "id": "QY04CNLW2VBK",
        "outputId": "3502b7a8-2b52-491f-fc0e-a3a4b9069f89"
      },
      "execution_count": 19,
      "outputs": [
        {
          "output_type": "execute_result",
          "data": {
            "text/plain": [
              "array([[<AxesSubplot:title={'center':'step'}>,\n",
              "        <AxesSubplot:title={'center':'amount'}>,\n",
              "        <AxesSubplot:title={'center':'oldbalanceOrg'}>],\n",
              "       [<AxesSubplot:title={'center':'newbalanceOrig'}>,\n",
              "        <AxesSubplot:title={'center':'oldbalanceDest'}>,\n",
              "        <AxesSubplot:title={'center':'newbalanceDest'}>],\n",
              "       [<AxesSubplot:title={'center':'isFraud'}>,\n",
              "        <AxesSubplot:title={'center':'isFlaggedFraud'}>, <AxesSubplot:>]],\n",
              "      dtype=object)"
            ]
          },
          "metadata": {},
          "execution_count": 19
        },
        {
          "output_type": "display_data",
          "data": {
            "text/plain": [
              "<Figure size 1440x1080 with 9 Axes>"
            ],
            "image/png": "[encoded data removed]"
          },
          "metadata": {
            "needs_background": "light"
          }
        }
      ]
    },
    {
      "cell_type": "code",
      "source": [
        "print_outliers(data_filtered, variables = ['step','amount','oldbalanceOrg','newbalanceOrig','oldbalanceDest','newbalanceDest'])"
      ],
      "metadata": {
        "colab": {
          "base_uri": "https://localhost:8080/",
          "height": 1000
        },
        "id": "1buehpj40ibF",
        "outputId": "0cbbc233-26d5-4cf1-c317-d111d7760adb"
      },
      "execution_count": 20,
      "outputs": [
        {
          "output_type": "stream",
          "name": "stderr",
          "text": [
            "/usr/local/lib/python3.9/dist-packages/seaborn/_decorators.py:36: FutureWarning: Pass the following variable as a keyword arg: x. From version 0.12, the only valid positional argument will be `data`, and passing other arguments without an explicit keyword will result in an error or misinterpretation.\n",
            "  warnings.warn(\n"
          ]
        },
        {
          "output_type": "display_data",
          "data": {
            "text/plain": [
              "<Figure size 432x288 with 1 Axes>"
            ],
            "image/png": "[encoded data removed]"
          },
          "metadata": {
            "needs_background": "light"
          }
        },
        {
          "output_type": "stream",
          "name": "stderr",
          "text": [
            "/usr/local/lib/python3.9/dist-packages/seaborn/_decorators.py:36: FutureWarning: Pass the following variable as a keyword arg: x. From version 0.12, the only valid positional argument will be `data`, and passing other arguments without an explicit keyword will result in an error or misinterpretation.\n",
            "  warnings.warn(\n"
          ]
        },
        {
          "output_type": "display_data",
          "data": {
            "text/plain": [
              "<Figure size 432x288 with 1 Axes>"
            ],
            "image/png": "[encoded data removed]"
          },
          "metadata": {
            "needs_background": "light"
          }
        },
        {
          "output_type": "stream",
          "name": "stderr",
          "text": [
            "/usr/local/lib/python3.9/dist-packages/seaborn/_decorators.py:36: FutureWarning: Pass the following variable as a keyword arg: x. From version 0.12, the only valid positional argument will be `data`, and passing other arguments without an explicit keyword will result in an error or misinterpretation.\n",
            "  warnings.warn(\n"
          ]
        },
        {
          "output_type": "display_data",
          "data": {
            "text/plain": [
              "<Figure size 432x288 with 1 Axes>"
            ],
            "image/png": "[encoded data removed]"
          },
          "metadata": {
            "needs_background": "light"
          }
        },
        {
          "output_type": "stream",
          "name": "stderr",
          "text": [
            "/usr/local/lib/python3.9/dist-packages/seaborn/_decorators.py:36: FutureWarning: Pass the following variable as a keyword arg: x. From version 0.12, the only valid positional argument will be `data`, and passing other arguments without an explicit keyword will result in an error or misinterpretation.\n",
            "  warnings.warn(\n"
          ]
        },
        {
          "output_type": "display_data",
          "data": {
            "text/plain": [
              "<Figure size 432x288 with 1 Axes>"
            ],
            "image/png": "[encoded data removed]"
          },
          "metadata": {
            "needs_background": "light"
          }
        },
        {
          "output_type": "stream",
          "name": "stderr",
          "text": [
            "/usr/local/lib/python3.9/dist-packages/seaborn/_decorators.py:36: FutureWarning: Pass the following variable as a keyword arg: x. From version 0.12, the only valid positional argument will be `data`, and passing other arguments without an explicit keyword will result in an error or misinterpretation.\n",
            "  warnings.warn(\n"
          ]
        },
        {
          "output_type": "display_data",
          "data": {
            "text/plain": [
              "<Figure size 432x288 with 1 Axes>"
            ],
            "image/png": "[encoded data removed]"
          },
          "metadata": {
            "needs_background": "light"
          }
        },
        {
          "output_type": "stream",
          "name": "stderr",
          "text": [
            "/usr/local/lib/python3.9/dist-packages/seaborn/_decorators.py:36: FutureWarning: Pass the following variable as a keyword arg: x. From version 0.12, the only valid positional argument will be `data`, and passing other arguments without an explicit keyword will result in an error or misinterpretation.\n",
            "  warnings.warn(\n"
          ]
        },
        {
          "output_type": "display_data",
          "data": {
            "text/plain": [
              "<Figure size 432x288 with 1 Axes>"
            ],
            "image/png": "[encoded data removed]"
          },
          "metadata": {
            "needs_background": "light"
          }
        }
      ]
    },
    {
      "cell_type": "markdown",
      "source": [
        "Sigue habiendo outliers pero no es tan notorio."
      ],
      "metadata": {
        "id": "x3LWa5pk1tNv"
      }
    },
    {
      "cell_type": "code",
      "source": [
        "data_filtered['type'].unique()"
      ],
      "metadata": {
        "colab": {
          "base_uri": "https://localhost:8080/"
        },
        "id": "tKBRh1E7eSml",
        "outputId": "b6a4cef6-fa51-4fdb-c3ba-108802eed742"
      },
      "execution_count": 21,
      "outputs": [
        {
          "output_type": "execute_result",
          "data": {
            "text/plain": [
              "array(['PAYMENT', 'TRANSFER', 'CASH_OUT', 'DEBIT', 'CASH_IN'],\n",
              "      dtype=object)"
            ]
          },
          "metadata": {},
          "execution_count": 21
        }
      ]
    },
    {
      "cell_type": "code",
      "source": [
        "data_filtered.type.value_counts()"
      ],
      "metadata": {
        "colab": {
          "base_uri": "https://localhost:8080/"
        },
        "id": "b1e61TYlxb1L",
        "outputId": "f3252d1f-50ae-44c8-f9c9-52998f93253d"
      },
      "execution_count": 22,
      "outputs": [
        {
          "output_type": "execute_result",
          "data": {
            "text/plain": [
              "CASH_OUT    2237500\n",
              "PAYMENT     2151495\n",
              "CASH_IN     1399284\n",
              "TRANSFER     532909\n",
              "DEBIT         41432\n",
              "Name: type, dtype: int64"
            ]
          },
          "metadata": {},
          "execution_count": 22
        }
      ]
    },
    {
      "cell_type": "code",
      "source": [
        "print(data.groupby('type')['isFraud'].sum())"
      ],
      "metadata": {
        "colab": {
          "base_uri": "https://localhost:8080/"
        },
        "id": "aX0n1lNvucwJ",
        "outputId": "282edcd9-009d-44dc-9cf8-6e8edfa6cb7e"
      },
      "execution_count": 23,
      "outputs": [
        {
          "output_type": "stream",
          "name": "stdout",
          "text": [
            "type\n",
            "CASH_IN        0\n",
            "CASH_OUT    4116\n",
            "DEBIT          0\n",
            "PAYMENT        0\n",
            "TRANSFER    4097\n",
            "Name: isFraud, dtype: int64\n"
          ]
        }
      ]
    },
    {
      "cell_type": "markdown",
      "source": [
        "Vamos a ver el número en % del fraude que corresponde a esa categoria"
      ],
      "metadata": {
        "id": "LARZm5cD3nxF"
      }
    },
    {
      "cell_type": "code",
      "source": [
        "#Para la categoria CASH_OUT\n",
        "((data.groupby('type')['isFraud'].sum()[1])*100)/(data_filtered.type.value_counts()[0])"
      ],
      "metadata": {
        "colab": {
          "base_uri": "https://localhost:8080/"
        },
        "id": "Y-d7kY0C3a_A",
        "outputId": "18373c95-d4d2-4712-8d5e-0ea8848808ad"
      },
      "execution_count": 24,
      "outputs": [
        {
          "output_type": "execute_result",
          "data": {
            "text/plain": [
              "0.18395530726256984"
            ]
          },
          "metadata": {},
          "execution_count": 24
        }
      ]
    },
    {
      "cell_type": "code",
      "source": [
        "#Para la categoria TRANSFER\n",
        "((data.groupby('type')['isFraud'].sum()[4])*100)/(data_filtered.type.value_counts()[3])"
      ],
      "metadata": {
        "colab": {
          "base_uri": "https://localhost:8080/"
        },
        "id": "v6b7Kg4O3-W7",
        "outputId": "d849e39b-868b-4512-e32f-3afb0eef8959"
      },
      "execution_count": 25,
      "outputs": [
        {
          "output_type": "execute_result",
          "data": {
            "text/plain": [
              "0.7687991758442811"
            ]
          },
          "metadata": {},
          "execution_count": 25
        }
      ]
    },
    {
      "cell_type": "markdown",
      "source": [
        "Esto es raro, solo hay fraude en dos tipos de transacciones. De todas maneras, el % que supone para cada categoria es infimo"
      ],
      "metadata": {
        "id": "6Y82RvlL2VRo"
      }
    },
    {
      "cell_type": "code",
      "source": [
        "data_filtered.isFraud.value_counts()"
      ],
      "metadata": {
        "colab": {
          "base_uri": "https://localhost:8080/"
        },
        "id": "5c6t-NtcDhlI",
        "outputId": "3f6f959a-6ed8-420e-e003-664e648b22c5"
      },
      "execution_count": 26,
      "outputs": [
        {
          "output_type": "execute_result",
          "data": {
            "text/plain": [
              "0    6354407\n",
              "1       8213\n",
              "Name: isFraud, dtype: int64"
            ]
          },
          "metadata": {},
          "execution_count": 26
        }
      ]
    },
    {
      "cell_type": "markdown",
      "source": [
        "Vemos que el fraude se encuentra agrupado en dos categorias y claramente desbalanceado"
      ],
      "metadata": {
        "id": "nLTvLVftvMN1"
      }
    },
    {
      "cell_type": "code",
      "source": [
        "data_filtered['isFlaggedFraud'].sum()"
      ],
      "metadata": {
        "colab": {
          "base_uri": "https://localhost:8080/"
        },
        "id": "Rh6hCj_SvDOD",
        "outputId": "158510b4-d113-4ff3-d0eb-c5dfa2c4d9ba"
      },
      "execution_count": 27,
      "outputs": [
        {
          "output_type": "execute_result",
          "data": {
            "text/plain": [
              "16"
            ]
          },
          "metadata": {},
          "execution_count": 27
        }
      ]
    },
    {
      "cell_type": "markdown",
      "source": [
        "Parece que no aporta ningun valor, ni que este relacionada con isFraud"
      ],
      "metadata": {
        "id": "XVD2hxp1b_Nk"
      }
    },
    {
      "cell_type": "code",
      "source": [
        "data_filtered['isFraud'].sum()"
      ],
      "metadata": {
        "colab": {
          "base_uri": "https://localhost:8080/"
        },
        "id": "D07tS8rCzK-t",
        "outputId": "82cfb20a-e967-4bd1-c650-3660c3cfaaa6"
      },
      "execution_count": 28,
      "outputs": [
        {
          "output_type": "execute_result",
          "data": {
            "text/plain": [
              "8213"
            ]
          },
          "metadata": {},
          "execution_count": 28
        }
      ]
    },
    {
      "cell_type": "code",
      "source": [
        "data_dummies = pd.get_dummies(data_filtered['type'], drop_first=True)\n",
        "data_dummies = pd.concat([data, data_dummies], axis=1)\n",
        "data_dummies = data_dummies.drop(['type', 'isFlaggedFraud'], axis = 1)"
      ],
      "metadata": {
        "id": "D2Zus0hK8F8C"
      },
      "execution_count": 29,
      "outputs": []
    },
    {
      "cell_type": "code",
      "source": [
        "plt.figure (figsize = (2 , 8) , dpi = 100)\n",
        "heatmap = sns.heatmap (data_dummies.corr()[['isFraud']].sort_values (by = 'isFraud', ascending = False), vmin = -1, vmax = 1, annot = True, cmap = 'coolwarm')\n",
        "heatmap.set_title ('Relación de las variables', fontdict = {'fontsize':16} , pad = 18);"
      ],
      "metadata": {
        "id": "zq3NHK5bEc6j",
        "colab": {
          "base_uri": "https://localhost:8080/",
          "height": 705
        },
        "outputId": "135a65ce-5556-4f68-bf0d-4ebe41321692"
      },
      "execution_count": 30,
      "outputs": [
        {
          "output_type": "display_data",
          "data": {
            "text/plain": [
              "<Figure size 200x800 with 2 Axes>"
            ],
            "image/png": "[encoded data removed]"
          },
          "metadata": {
            "needs_background": "light"
          }
        }
      ]
    },
    {
      "cell_type": "code",
      "source": [
        "corr_data_model = data_dummies.corr ()\n",
        "plt.figure(figsize=(15, 7))\n",
        "sns.heatmap(corr_data_model, annot=True)\n",
        "plt.show()"
      ],
      "metadata": {
        "colab": {
          "base_uri": "https://localhost:8080/",
          "height": 505
        },
        "id": "Ks1xIKCIAw6h",
        "outputId": "eb70f66e-df1d-46b2-dc14-913f38774bed"
      },
      "execution_count": 31,
      "outputs": [
        {
          "output_type": "display_data",
          "data": {
            "text/plain": [
              "<Figure size 1080x504 with 2 Axes>"
            ],
            "image/png": "[encoded data removed]"
          },
          "metadata": {
            "needs_background": "light"
          }
        }
      ]
    },
    {
      "cell_type": "markdown",
      "source": [
        "Eliminaremos varibales oldbalanceOrg y oldbalanceDest para evitar multicolinealidad"
      ],
      "metadata": {
        "id": "p2N2aMbzIRDk"
      }
    },
    {
      "cell_type": "code",
      "source": [
        "data_dummies['isFraud'].sum()"
      ],
      "metadata": {
        "colab": {
          "base_uri": "https://localhost:8080/"
        },
        "id": "LixCFCSRG9bA",
        "outputId": "a4630404-08a6-4bcf-da8c-a19493abf248"
      },
      "execution_count": 32,
      "outputs": [
        {
          "output_type": "execute_result",
          "data": {
            "text/plain": [
              "8213"
            ]
          },
          "metadata": {},
          "execution_count": 32
        }
      ]
    },
    {
      "cell_type": "code",
      "source": [
        "print(((data_dummies['isFraud'].sum()/data_dummies.shape[0]))*100)"
      ],
      "metadata": {
        "colab": {
          "base_uri": "https://localhost:8080/"
        },
        "id": "MrmgiRDVHF0W",
        "outputId": "3ee2fc61-0899-4d43-aa61-4f5d724317f0"
      },
      "execution_count": 33,
      "outputs": [
        {
          "output_type": "stream",
          "name": "stdout",
          "text": [
            "0.12908204481801522\n"
          ]
        }
      ]
    },
    {
      "cell_type": "markdown",
      "source": [
        "Existe un gran debalanceo entre la clase 0 y 1 en la variable fraude, no llegando al 1% por lo tanto vamos a balancear el dataset"
      ],
      "metadata": {
        "id": "C0FeOsU6QBNV"
      }
    },
    {
      "cell_type": "code",
      "source": [
        "df_balanced = balanceo_dataset(data_dummies)"
      ],
      "metadata": {
        "colab": {
          "base_uri": "https://localhost:8080/"
        },
        "id": "xbBtHq1fREKb",
        "outputId": "3fbac6fd-fc79-4f4f-e72c-76c5ad9e480e"
      },
      "execution_count": 34,
      "outputs": [
        {
          "output_type": "stream",
          "name": "stdout",
          "text": [
            "Cada conjunto de datos tiene una muestra de 0 y de 1 de 8213\n"
          ]
        }
      ]
    },
    {
      "cell_type": "code",
      "source": [
        "df_balanced.shape"
      ],
      "metadata": {
        "colab": {
          "base_uri": "https://localhost:8080/"
        },
        "id": "P1svJ0LbSjio",
        "outputId": "b16b1856-a08c-49d3-a0b2-30e8ca5e59c5"
      },
      "execution_count": 35,
      "outputs": [
        {
          "output_type": "execute_result",
          "data": {
            "text/plain": [
              "(16426, 13)"
            ]
          },
          "metadata": {},
          "execution_count": 35
        }
      ]
    },
    {
      "cell_type": "markdown",
      "source": [
        "## MODELIZACIÓN"
      ],
      "metadata": {
        "id": "l2ieTWUu9PGI"
      }
    },
    {
      "cell_type": "markdown",
      "source": [
        "Separación del dato "
      ],
      "metadata": {
        "id": "SQOUzV8PH0at"
      }
    },
    {
      "cell_type": "code",
      "source": [
        "X_balanceado = df_balanced[['step', 'amount', 'newbalanceOrig', 'newbalanceDest', 'CASH_OUT', 'DEBIT', 'PAYMENT', 'TRANSFER']]\n",
        "y_balanceado = df_balanced['isFraud']"
      ],
      "metadata": {
        "id": "SbELOtskG_qO"
      },
      "execution_count": 36,
      "outputs": []
    },
    {
      "cell_type": "markdown",
      "source": [
        "ARBOL DE DECISION"
      ],
      "metadata": {
        "id": "8DgnvP3qHzgR"
      }
    },
    {
      "cell_type": "code",
      "source": [
        "parametros = {'criterion' :['entropy', 'gini'], 'max_depth' : [1,2,3,4], 'random_state' : [42]}\n",
        "optimizacion_parametros(DecisionTreeClassifier(), X_balanceado, y_balanceado, parametros, 10, 'MinMax')"
      ],
      "metadata": {
        "colab": {
          "base_uri": "https://localhost:8080/"
        },
        "id": "8pOPUcV7HkWq",
        "outputId": "9c90c902-1d59-4712-a3c3-db5b43b685a7"
      },
      "execution_count": 37,
      "outputs": [
        {
          "output_type": "stream",
          "name": "stdout",
          "text": [
            "Mejores hiperparámetros encontrados:\n",
            "{'criterion': 'gini', 'max_depth': 4, 'random_state': 42}\n",
            "Puntuación de validación cruzada media asociada a los mejores hiperparámetros:\n",
            "0.8515981735159818\n"
          ]
        }
      ]
    },
    {
      "cell_type": "code",
      "source": [
        "creacion_modelo(DecisionTreeClassifier(criterion = 'entropy', max_depth = 4, random_state = 42), X_balanceado, y_balanceado, 'MinMax', 'accuracy', True)"
      ],
      "metadata": {
        "colab": {
          "base_uri": "https://localhost:8080/"
        },
        "id": "DOgHO02OL3Xo",
        "outputId": "1bf25133-2db5-46f5-c2d3-ee1225ba714c"
      },
      "execution_count": 38,
      "outputs": [
        {
          "output_type": "stream",
          "name": "stdout",
          "text": [
            "Precisión en el conjunto de entrenamiento: 0.85\n",
            "Precisión en el conjunto de prueba: 0.86\n",
            "El accuracy para este modelo es 85.54%\n",
            "Matriz de confusión:\n",
            "[[1625   34]\n",
            " [ 441 1186]]\n"
          ]
        }
      ]
    },
    {
      "cell_type": "markdown",
      "source": [
        "RANDOM FOREST CLASSIFIER"
      ],
      "metadata": {
        "id": "Awt9YaLtJD8W"
      }
    },
    {
      "cell_type": "code",
      "source": [
        "parametros = {'max_depth': [2,5,10],'min_samples_split': [1,2,3],'max_features': ['sqrt', None],'criterion': ['gini', 'entropy']}\n",
        "optimizacion_parametros(RandomForestClassifier(), X_balanceado, y_balanceado, parametros, 5, 'MinMax')"
      ],
      "metadata": {
        "id": "ar1h-_qutDJ1",
        "colab": {
          "base_uri": "https://localhost:8080/"
        },
        "outputId": "7ea770df-4928-4e0b-fe32-f3086d0126b9"
      },
      "execution_count": 39,
      "outputs": [
        {
          "output_type": "stream",
          "name": "stdout",
          "text": [
            "Mejores hiperparámetros encontrados:\n",
            "{'criterion': 'entropy', 'max_depth': 10, 'max_features': 'sqrt', 'min_samples_split': 1}\n",
            "Puntuación de validación cruzada media asociada a los mejores hiperparámetros:\n",
            "0.9286149162861491\n"
          ]
        }
      ]
    },
    {
      "cell_type": "code",
      "source": [
        "creacion_modelo(RandomForestClassifier(n_estimators=100, max_depth=10, criterion = 'entropy', max_features = None, min_samples_split = 2), X_balanceado, y_balanceado, 'MinMax', 'accuracy', True)"
      ],
      "metadata": {
        "colab": {
          "base_uri": "https://localhost:8080/"
        },
        "id": "Q2pX5qZlJGXp",
        "outputId": "90ca3f33-108f-4f6f-d08a-d651a9223e33"
      },
      "execution_count": 40,
      "outputs": [
        {
          "output_type": "stream",
          "name": "stdout",
          "text": [
            "Precisión en el conjunto de entrenamiento: 0.93\n",
            "Precisión en el conjunto de prueba: 0.93\n",
            "El accuracy para este modelo es 93.43%\n",
            "Matriz de confusión:\n",
            "[[1590   69]\n",
            " [ 147 1480]]\n"
          ]
        }
      ]
    },
    {
      "cell_type": "markdown",
      "source": [
        "XGBoost"
      ],
      "metadata": {
        "id": "XFZBZuG6YWOp"
      }
    },
    {
      "cell_type": "markdown",
      "source": [
        "Para el XGBoost no vamos a eliminar outliers ya que puede ser contraproducente para este tipo de modelos"
      ],
      "metadata": {
        "id": "CNUJyrJsYtJm"
      }
    },
    {
      "cell_type": "code",
      "source": [
        "data_dummies_outliers = pd.get_dummies(data['type'], drop_first=True)\n",
        "data_dummies_outliers = pd.concat([data, data_dummies_outliers], axis=1)\n",
        "data_dummies_outliers = data_dummies_outliers.drop(['type', 'isFlaggedFraud'], axis = 1)"
      ],
      "metadata": {
        "id": "Pf0oijBPZjng"
      },
      "execution_count": 41,
      "outputs": []
    },
    {
      "cell_type": "code",
      "source": [
        "df_balanced_outliers = balanceo_dataset(data_dummies_outliers)"
      ],
      "metadata": {
        "colab": {
          "base_uri": "https://localhost:8080/"
        },
        "id": "Uhcr6bk1ZAPI",
        "outputId": "a96a788a-1659-4661-f989-62940fe1c126"
      },
      "execution_count": 42,
      "outputs": [
        {
          "output_type": "stream",
          "name": "stdout",
          "text": [
            "Cada conjunto de datos tiene una muestra de 0 y de 1 de 8213\n"
          ]
        }
      ]
    },
    {
      "cell_type": "code",
      "source": [
        "X_outliers = df_balanced_outliers[['step', 'amount', 'newbalanceOrig', 'newbalanceDest', 'CASH_OUT', 'DEBIT', 'PAYMENT', 'TRANSFER']]\n",
        "y_outliers = df_balanced_outliers['isFraud']"
      ],
      "metadata": {
        "id": "AMKP8lv8ZKD5"
      },
      "execution_count": 43,
      "outputs": []
    },
    {
      "cell_type": "code",
      "source": [
        "model_xgboost(xgb.XGBClassifier(n_estimators=100, max_depth=3, learning_rate=0.1, subsample=0.5, colsample_bytree=0.5, random_state=42), X_outliers, y_outliers, True)"
      ],
      "metadata": {
        "colab": {
          "base_uri": "https://localhost:8080/"
        },
        "id": "7-8cwSria8JQ",
        "outputId": "2679a8be-1157-42f6-e90e-5906786275d0"
      },
      "execution_count": 44,
      "outputs": [
        {
          "output_type": "stream",
          "name": "stdout",
          "text": [
            "El modelo presenta un accuracy de 93.91%\n",
            "Matriz de confusión:\n",
            "[[1580   84]\n",
            " [ 116 1506]]\n"
          ]
        }
      ]
    }
  ]
}